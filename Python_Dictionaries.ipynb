{
  "nbformat": 4,
  "nbformat_minor": 0,
  "metadata": {
    "colab": {
      "name": "Python_Dictionaries",
      "provenance": [],
      "collapsed_sections": [],
      "authorship_tag": "ABX9TyM/2knTi9IjiQrpxXI+wkW7",
      "include_colab_link": true
    },
    "kernelspec": {
      "name": "python3",
      "display_name": "Python 3"
    }
  },
  "cells": [
    {
      "cell_type": "markdown",
      "metadata": {
        "id": "view-in-github",
        "colab_type": "text"
      },
      "source": [
        "<a href=\"https://colab.research.google.com/github/jonambach/Python-Object-Lists-and-Dictionaries-/blob/master/Python_Dictionaries.ipynb\" target=\"_parent\"><img src=\"https://colab.research.google.com/assets/colab-badge.svg\" alt=\"Open In Colab\"/></a>"
      ]
    },
    {
      "cell_type": "markdown",
      "metadata": {
        "id": "DVKlJUutl_p7",
        "colab_type": "text"
      },
      "source": [
        "Mean = Average of values \n",
        "\n",
        "STD = Standard Deviation\n",
        "\n",
        "Features = Column Names \n",
        "\n",
        "Pandas = Python Library to easy indexing\n",
        "\n",
        "Mode = Value that appears the most often\n",
        "\n",
        "Median = Middle Value of Data\n",
        "\n",
        "Scipy = Solves High Level Math Equations \n",
        "\n",
        "Sets = Unordered Collections \n",
        "\n",
        "Min = Min Column \n",
        "\n",
        "Max = Max Column Values \n",
        "\n",
        "One Hot Encoding = Converts text and \n",
        "strings to numbers for machine learning \n",
        "\n",
        "Atributes = Data within Rows of the \n",
        "features \n",
        "\n",
        "Numpy = helps Python perform fast \n",
        "mathmatical operations \n",
        "\n",
        "Dictionary = Creates key values (used \n",
        "heavily in NoSQL)\n",
        "\n",
        "NoSQL (Not Only Structured Query Language) \n",
        "= Languaged used to work with unstructuted \n",
        "data \n",
        "\n",
        "NoSQL Software = PostgreSQL, Microsoft SQL Server, MySQL, SQLite\n",
        "\n",
        "Loops = Perform a task over and over again\n",
        "Range Function = Outputs an ordered sequence as a list \n",
        "\n",
        "Integer = Number \n",
        "\n",
        "Float = Numbers with Decimals \n",
        "\n",
        "String = Sequence of Characters (words, \n",
        "letters, numbers, ints, floats, etc)\n",
        "\n",
        "Object = All Characters (Strings and Objects have become synonymous)\n",
        "\n",
        "List = a sequence of objectsPlease stage areas as you see fit. trings (Lists are Tuples by defaul unless you add Brackets)\n",
        "\n",
        "Brackets = make it a list (means you can change values within var aka mutable)\n",
        "\n",
        "Tuple = Parenthesis (means you can't change values within var unless you recreate the var aka immutable)"
      ]
    },
    {
      "cell_type": "code",
      "metadata": {
        "id": "9epsvLOCn72G",
        "colab_type": "code",
        "colab": {}
      },
      "source": [
        "#comments here \n",
        "house = ['roof','floor','bathroom']"
      ],
      "execution_count": 0,
      "outputs": []
    },
    {
      "cell_type": "code",
      "metadata": {
        "id": "vABDJRjnobIj",
        "colab_type": "code",
        "colab": {
          "base_uri": "https://localhost:8080/",
          "height": 34
        },
        "outputId": "f3a7b868-7fbb-4642-8673-9c650c6320f7"
      },
      "source": [
        "house"
      ],
      "execution_count": 2,
      "outputs": [
        {
          "output_type": "execute_result",
          "data": {
            "text/plain": [
              "['roof', 'floor', 'bathroom']"
            ]
          },
          "metadata": {
            "tags": []
          },
          "execution_count": 2
        }
      ]
    },
    {
      "cell_type": "code",
      "metadata": {
        "id": "poWj2hwvojSV",
        "colab_type": "code",
        "colab": {}
      },
      "source": [
        "#this allows us to change the values in the first portion of the list \n",
        "house[0] = \"backyard\""
      ],
      "execution_count": 0,
      "outputs": []
    },
    {
      "cell_type": "code",
      "metadata": {
        "id": "DPbSAlbVo2bC",
        "colab_type": "code",
        "colab": {
          "base_uri": "https://localhost:8080/",
          "height": 34
        },
        "outputId": "cea6997d-9b12-4e4f-f322-b7c2c8db7304"
      },
      "source": [
        "house"
      ],
      "execution_count": 4,
      "outputs": [
        {
          "output_type": "execute_result",
          "data": {
            "text/plain": [
              "['backyard', 'floor', 'bathroom']"
            ]
          },
          "metadata": {
            "tags": []
          },
          "execution_count": 4
        }
      ]
    },
    {
      "cell_type": "code",
      "metadata": {
        "id": "avnXnsLIo8Qi",
        "colab_type": "code",
        "colab": {}
      },
      "source": [
        "house = ('roof', 'floor', 'bathroom')"
      ],
      "execution_count": 0,
      "outputs": []
    },
    {
      "cell_type": "code",
      "metadata": {
        "id": "Y6rRk20dpRb2",
        "colab_type": "code",
        "colab": {}
      },
      "source": [
        "#create a list within a list. This is called a nested list. \n",
        "house_list = ['roof', ['floor','bathroom'], 'kitchen']"
      ],
      "execution_count": 0,
      "outputs": []
    },
    {
      "cell_type": "code",
      "metadata": {
        "id": "OCT-DpSNp2Dm",
        "colab_type": "code",
        "colab": {
          "base_uri": "https://localhost:8080/",
          "height": 34
        },
        "outputId": "b43be748-590c-49e2-f337-2822e8289fd0"
      },
      "source": [
        "house_list[1]"
      ],
      "execution_count": 7,
      "outputs": [
        {
          "output_type": "execute_result",
          "data": {
            "text/plain": [
              "['floor', 'bathroom']"
            ]
          },
          "metadata": {
            "tags": []
          },
          "execution_count": 7
        }
      ]
    },
    {
      "cell_type": "code",
      "metadata": {
        "id": "i8-WnCVap3vm",
        "colab_type": "code",
        "colab": {
          "base_uri": "https://localhost:8080/",
          "height": 34
        },
        "outputId": "da6df153-653a-41bc-b383-d59c60de6833"
      },
      "source": [
        "house_list"
      ],
      "execution_count": 8,
      "outputs": [
        {
          "output_type": "execute_result",
          "data": {
            "text/plain": [
              "['roof', ['floor', 'bathroom'], 'kitchen']"
            ]
          },
          "metadata": {
            "tags": []
          },
          "execution_count": 8
        }
      ]
    },
    {
      "cell_type": "code",
      "metadata": {
        "id": "iwh-0I_SqGxe",
        "colab_type": "code",
        "colab": {
          "base_uri": "https://localhost:8080/",
          "height": 34
        },
        "outputId": "5b303509-af28-419c-e3b4-e548c268e238"
      },
      "source": [
        "#this code allows us to locate information within lists \n",
        "#pull from 1'st position within the list and the second value\n",
        "\n",
        "house_list = ['roof', ['floor','bathroom'], 'kitchen']\n",
        "print(house_list[1][1])"
      ],
      "execution_count": 9,
      "outputs": [
        {
          "output_type": "stream",
          "text": [
            "bathroom\n"
          ],
          "name": "stdout"
        }
      ]
    },
    {
      "cell_type": "code",
      "metadata": {
        "id": "RK_n_iehqbbF",
        "colab_type": "code",
        "colab": {
          "base_uri": "https://localhost:8080/",
          "height": 34
        },
        "outputId": "712387e8-e4e6-49e6-e0b6-8896fc8c7e07"
      },
      "source": [
        "#add another data point to list \n",
        "house_list[1].append(\"more_stairs\")\n",
        "print(house_list)"
      ],
      "execution_count": 10,
      "outputs": [
        {
          "output_type": "stream",
          "text": [
            "['roof', ['floor', 'bathroom', 'more_stairs'], 'kitchen']\n"
          ],
          "name": "stdout"
        }
      ]
    },
    {
      "cell_type": "code",
      "metadata": {
        "id": "b_5GHMOgrHTM",
        "colab_type": "code",
        "colab": {
          "base_uri": "https://localhost:8080/",
          "height": 34
        },
        "outputId": "3734f968-16cd-41b6-be11-8d0b40ebcda2"
      },
      "source": [
        "#lists have a particular lenght \n",
        "house_list_length = len(house_list)\n",
        "print(house_list)"
      ],
      "execution_count": 11,
      "outputs": [
        {
          "output_type": "stream",
          "text": [
            "['roof', ['floor', 'bathroom', 'more_stairs'], 'kitchen']\n"
          ],
          "name": "stdout"
        }
      ]
    },
    {
      "cell_type": "code",
      "metadata": {
        "id": "fXRm5V1xrTa-",
        "colab_type": "code",
        "colab": {
          "base_uri": "https://localhost:8080/",
          "height": 34
        },
        "outputId": "b72cb667-5eda-4dd1-d95c-21659de3dfa8"
      },
      "source": [
        "#shows how many values are in the list \n",
        "house_list_length"
      ],
      "execution_count": 12,
      "outputs": [
        {
          "output_type": "execute_result",
          "data": {
            "text/plain": [
              "3"
            ]
          },
          "metadata": {
            "tags": []
          },
          "execution_count": 12
        }
      ]
    },
    {
      "cell_type": "code",
      "metadata": {
        "id": "CItFtRvErUtg",
        "colab_type": "code",
        "colab": {
          "base_uri": "https://localhost:8080/",
          "height": 34
        },
        "outputId": "20276e09-c546-469a-c1c1-ada6c6f6cc34"
      },
      "source": [
        "print(\"You have {} different parts of your house\".format(house_list_length))"
      ],
      "execution_count": 13,
      "outputs": [
        {
          "output_type": "stream",
          "text": [
            "You have 3 different parts of your house\n"
          ],
          "name": "stdout"
        }
      ]
    },
    {
      "cell_type": "markdown",
      "metadata": {
        "id": "eR9k5w77r5rL",
        "colab_type": "text"
      },
      "source": [
        "# `Creating a *dictionary*`"
      ]
    },
    {
      "cell_type": "code",
      "metadata": {
        "id": "hL4jhdJZr8rp",
        "colab_type": "code",
        "colab": {}
      },
      "source": [
        "#simple dictionary \n",
        "#dictionaries are used heavily in NoSQL processing \n",
        "\n",
        "Analyst = {\n",
        "    \"name\": \"Jon\",\n",
        "    \"profession\": \"Data Analyst\"}\n",
        "\n",
        "Customer  = {\n",
        "    \"Company\": None,\n",
        "    \"Business Industry\": \"Real Estate\",\n",
        "    \"Company Locations\": 23,\n",
        "    \"Employee Count\": 1000,\n",
        "}"
      ],
      "execution_count": 0,
      "outputs": []
    },
    {
      "cell_type": "code",
      "metadata": {
        "id": "BI6B8H55s1rC",
        "colab_type": "code",
        "colab": {
          "base_uri": "https://localhost:8080/",
          "height": 51
        },
        "outputId": "46d2ec5d-bbf1-43d0-eec1-3a71a40f6737"
      },
      "source": [
        "if Customer[\"Company\"] is None:\n",
        "    Customer[\"Company\"] = input(\"Create a dba Company name for me to register?\"\"\")\n",
        "    print(\"Great nice to meet you, my name is {}\".format(Analyst[\"name\"]))"
      ],
      "execution_count": 18,
      "outputs": [
        {
          "output_type": "stream",
          "text": [
            "Create a dba Company name for me to register?df\n",
            "Great nice to meet you, my name is Jon\n"
          ],
          "name": "stdout"
        }
      ]
    },
    {
      "cell_type": "code",
      "metadata": {
        "id": "m24QL4-culhm",
        "colab_type": "code",
        "colab": {}
      },
      "source": [
        "Customer[\"Business Industry\"] = \"New Industry\""
      ],
      "execution_count": 0,
      "outputs": []
    },
    {
      "cell_type": "code",
      "metadata": {
        "id": "eHnAgirMvDAu",
        "colab_type": "code",
        "colab": {
          "base_uri": "https://localhost:8080/",
          "height": 34
        },
        "outputId": "0136de6e-a23c-4a15-d9c1-6eaa3fa02009"
      },
      "source": [
        "print(Customer[\"Business Industry\"])"
      ],
      "execution_count": 20,
      "outputs": [
        {
          "output_type": "stream",
          "text": [
            "New Industry\n"
          ],
          "name": "stdout"
        }
      ]
    },
    {
      "cell_type": "code",
      "metadata": {
        "id": "5QMjsWlIvGPD",
        "colab_type": "code",
        "colab": {}
      },
      "source": [
        "house_price = {\n",
        "    'San_Antonio': 200000,\n",
        "    'Houston': 300000,\n",
        "    'LA': 500000,\n",
        "}"
      ],
      "execution_count": 0,
      "outputs": []
    },
    {
      "cell_type": "code",
      "metadata": {
        "id": "gjYcdHwRvZ-P",
        "colab_type": "code",
        "colab": {}
      },
      "source": [
        "def prices (house_types):\n",
        "    if house_types in house_price:\n",
        "        return 'The house price for {} is ${}'.format(house_types, house_price[house_types])"
      ],
      "execution_count": 0,
      "outputs": []
    },
    {
      "cell_type": "code",
      "metadata": {
        "id": "OPkNUYrxvwbD",
        "colab_type": "code",
        "colab": {
          "base_uri": "https://localhost:8080/",
          "height": 34
        },
        "outputId": "339cb111-742c-4038-b04e-9e1cd625179c"
      },
      "source": [
        "prices('Houston')"
      ],
      "execution_count": 25,
      "outputs": [
        {
          "output_type": "execute_result",
          "data": {
            "text/plain": [
              "'The house price for Houston is $300000'"
            ]
          },
          "metadata": {
            "tags": []
          },
          "execution_count": 25
        }
      ]
    }
  ]
}